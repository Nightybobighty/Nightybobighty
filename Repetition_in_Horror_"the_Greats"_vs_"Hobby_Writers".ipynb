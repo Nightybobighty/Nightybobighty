{
  "nbformat": 4,
  "nbformat_minor": 0,
  "metadata": {
    "colab": {
      "name": "Repetition in Horror: \"the Greats\" vs \"Hobby Writers\"",
      "provenance": [],
      "collapsed_sections": [],
      "authorship_tag": "ABX9TyNLCXWyqGn1Vvy+mgy5KK4V",
      "include_colab_link": true
    },
    "kernelspec": {
      "name": "python3",
      "display_name": "Python 3"
    },
    "language_info": {
      "name": "python"
    }
  },
  "cells": [
    {
      "cell_type": "markdown",
      "metadata": {
        "id": "view-in-github",
        "colab_type": "text"
      },
      "source": [
        "<a href=\"https://colab.research.google.com/github/Nightybobighty/Nightybobighty/blob/main/Repetition_in_Horror_%22the_Greats%22_vs_%22Hobby_Writers%22.ipynb\" target=\"_parent\"><img src=\"https://colab.research.google.com/assets/colab-badge.svg\" alt=\"Open In Colab\"/></a>"
      ]
    },
    {
      "cell_type": "code",
      "source": [
        "import nltk\n",
        "nltk.download('punkt')\n",
        "nltk.download('averaged_perceptron_tagger')\n",
        "\n",
        "from textblob import TextBlob\n",
        "import glob"
      ],
      "metadata": {
        "id": "bPqsu2iMMv3P",
        "colab": {
          "base_uri": "https://localhost:8080/"
        },
        "outputId": "0ba88c3e-789c-4d4d-e31d-9c7f0681c1a4"
      },
      "execution_count": null,
      "outputs": [
        {
          "output_type": "stream",
          "name": "stdout",
          "text": [
            "[nltk_data] Downloading package punkt to /root/nltk_data...\n",
            "[nltk_data]   Unzipping tokenizers/punkt.zip.\n",
            "[nltk_data] Downloading package averaged_perceptron_tagger to\n",
            "[nltk_data]     /root/nltk_data...\n",
            "[nltk_data]   Unzipping taggers/averaged_perceptron_tagger.zip.\n"
          ]
        }
      ]
    },
    {
      "cell_type": "code",
      "execution_count": null,
      "metadata": {
        "id": "fuK-tzuLMfZD"
      },
      "outputs": [],
      "source": [
        "!unzip \"/content/horror.corpora.zip\"\n",
        "\n",
        "files = glob.glob(\"/content/horror.corpora.zip\")\n",
        "print(files)"
      ]
    },
    {
      "cell_type": "code",
      "source": [
        "with open(\"horror.corpora/king_corpus/Firestarter-King.txt\") as f:\n",
        "  text = f.read()\n",
        "\n",
        "blob = TextBlob(text)"
      ],
      "metadata": {
        "id": "12C5ecYMM0vG"
      },
      "execution_count": null,
      "outputs": []
    },
    {
      "cell_type": "code",
      "source": [
        "for sentence in blob.sentences:\n",
        "  for i in range(len(sentence.words) - 3):\n",
        "    if (sentence.words[i] == sentence.words[i + 1]and sentence.words[i] == sentence.words[i + 2]):\n",
        "      print(sentence.words[i])"
      ],
      "metadata": {
        "id": "q-_yg4eNjAEO"
      },
      "execution_count": null,
      "outputs": []
    }
  ]
}